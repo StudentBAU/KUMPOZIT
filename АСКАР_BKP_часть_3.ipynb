{
  "cells": [
    {
      "cell_type": "markdown",
      "metadata": {
        "id": "4919b4fc"
      },
      "source": [
        "# Третья часть кода"
      ],
      "id": "4919b4fc"
    },
    {
      "cell_type": "code",
      "execution_count": null,
      "metadata": {
        "id": "633ecb09"
      },
      "outputs": [],
      "source": [
        "import numpy as np\n",
        "import pandas as pd\n",
        "import matplotlib.pyplot as plt\n",
        "import tensorflow as tf\n",
        "import seaborn as sns\n",
        "import plotly.express as px\n",
        "import tensorflow as tf\n",
        "import sklearn\n",
        "\n",
        "from sklearn import linear_model\n",
        "from sklearn.ensemble import RandomForestRegressor, GradientBoostingRegressor\n",
        "from sklearn.linear_model import LinearRegression, LogisticRegression, SGDRegressor\n",
        "from sklearn.metrics import mean_squared_error, r2_score, mean_absolute_percentage_error, mean_absolute_error\n",
        "from sklearn.model_selection import train_test_split, GridSearchCV, KFold, cross_val_score\n",
        "from sklearn.neighbors import KNeighborsRegressor\n",
        "from sklearn.neural_network import MLPRegressor\n",
        "from sklearn.pipeline import make_pipeline, Pipeline\n",
        "from sklearn import preprocessing\n",
        "from sklearn.preprocessing import Normalizer, LabelEncoder, MinMaxScaler, StandardScaler\n",
        "from sklearn.svm import SVR\n",
        "from sklearn.tree import DecisionTreeRegressor\n",
        "\n",
        "from tensorflow import keras\n",
        "from keras import layers\n",
        "from keras.layers import Dense, Flatten, Dropout, BatchNormalization, Activation\n",
        "from pandas import read_excel, DataFrame, Series\n",
        "from keras.wrappers.scikit_learn import KerasClassifier, KerasRegressor\n",
        "from keras.models import Sequential\n",
        "from numpy.random import seed\n",
        "from scipy import stats\n",
        "import warnings\n",
        "warnings.filterwarnings(\"ignore\")"
      ],
      "id": "633ecb09"
    },
    {
      "cell_type": "code",
      "execution_count": null,
      "metadata": {
        "id": "cESUGQGu9k9O"
      },
      "outputs": [],
      "source": [
        "from google.colab import drive\n",
        "drive.mount('/content/drive')"
      ],
      "id": "cESUGQGu9k9O"
    },
    {
      "cell_type": "code",
      "execution_count": null,
      "metadata": {
        "id": "7f781fc3"
      },
      "outputs": [],
      "source": [
        "#Загружаем подготовленный датасет\n",
        "df = pd.read_excel(r\"/content/drive/MyDrive/Colab Notebooks/ВКР Композиты/final.xlsx\")\n",
        "df.shape"
      ],
      "id": "7f781fc3"
    },
    {
      "cell_type": "markdown",
      "metadata": {
        "id": "f29d8407"
      },
      "source": [
        "Прогнозируем модуль упругости при растяжении, ГПа"
      ],
      "id": "f29d8407"
    },
    {
      "cell_type": "code",
      "execution_count": null,
      "metadata": {
        "id": "79e1fbc1"
      },
      "outputs": [],
      "source": [
        "#разбиваем на тестовую, тренировочную выборки, выделяя предикторы и целевые переменные\n",
        "normalizer = Normalizer()\n",
        "res = normalizer.fit_transform(df)\n",
        "df_norm_n = pd.DataFrame(res, columns = df.columns)\n",
        "x_train_2, x_test_2, y_train_2, y_test_2 = train_test_split(\n",
        "    df_norm_n.loc[:, df_norm_n.columns != 'Модуль упругости при растяжении, ГПа'],\n",
        "    df[['Модуль упругости при растяжении, ГПа']],\n",
        "       test_size = 0.3,\n",
        "    random_state = 42)"
      ],
      "id": "79e1fbc1"
    },
    {
      "cell_type": "code",
      "execution_count": null,
      "metadata": {
        "id": "63251dbb"
      },
      "outputs": [],
      "source": [
        "# Проверка правильности разбивки\n",
        "df_norm_n.shape[0] - x_train_2.shape[0] - x_test_2.shape[0]"
      ],
      "id": "63251dbb"
    },
    {
      "cell_type": "code",
      "execution_count": null,
      "metadata": {
        "id": "be370684"
      },
      "outputs": [],
      "source": [
        "x_train_2.head()"
      ],
      "id": "be370684"
    },
    {
      "cell_type": "code",
      "execution_count": null,
      "metadata": {
        "id": "38c5f84f"
      },
      "outputs": [],
      "source": [
        "y_train_2"
      ],
      "id": "38c5f84f"
    },
    {
      "cell_type": "code",
      "execution_count": null,
      "metadata": {
        "id": "e66fee11"
      },
      "outputs": [],
      "source": [
        "y_train_2.shape"
      ],
      "id": "e66fee11"
    },
    {
      "cell_type": "code",
      "execution_count": null,
      "metadata": {
        "id": "a16537b9"
      },
      "outputs": [],
      "source": [
        "# Функция для сравнения результатов предсказаний с моделью, выдающей среднее значение по тестовой выборке\n",
        "def mean_model(y_test_2):\n",
        "    return [np.mean(y_test_2) for _ in range(len(y_test_2))]\n",
        "y_2_pred_mean = mean_model(y_test_2)"
      ],
      "id": "a16537b9"
    },
    {
      "cell_type": "code",
      "execution_count": null,
      "metadata": {
        "id": "0e54c827"
      },
      "outputs": [],
      "source": [
        "#Проверка различных моделей при стандартных параметрах\n",
        "# Метод опорных векторов - 1 "
      ],
      "id": "0e54c827"
    },
    {
      "cell_type": "code",
      "execution_count": null,
      "metadata": {
        "id": "0e2d21d3"
      },
      "outputs": [],
      "source": [
        "svr2 = make_pipeline(StandardScaler(), SVR(kernel = 'rbf', C = 500.0, epsilon = 1.0))\n",
        "#обучаем модель\n",
        "svr2.fit(x_train_2, np.ravel(y_train_2))\n",
        "#вычисляем коэффициент детерминации\n",
        "y_pred_svr2 = svr2.predict(x_test_2)\n",
        "mae_svr2 = mean_absolute_error(y_pred_svr2, y_test_2)\n",
        "mse_svr_elast2 = mean_squared_error(y_test_2,y_pred_svr2)\n",
        "print('Support Vector Regression Results Train:') \n",
        "print(\"Test score: {:.2f}\".format(svr2.score(x_train_2, y_train_2))) # Скор для тренировочной выборки\n",
        "print('Support Vector Regression Results:')\n",
        "print('SVR_MAE:', round(mean_absolute_error(y_test_2, y_pred_svr2)))\n",
        "print('SVR_MAPE: {:.2f}'.format(mean_absolute_percentage_error(y_test_2, y_pred_svr2)))\n",
        "print('SVR_MSE: {:.2f}'.format(mse_svr_elast2))\n",
        "print(\"SVR_RMSE: {:.2f}\".format (np.sqrt(mse_svr_elast2)))\n",
        "print(\"Test score: {:.2f}\".format(svr2.score(x_test_2, y_test_2))) # Скор для тестовой выборки"
      ],
      "id": "0e2d21d3"
    },
    {
      "cell_type": "code",
      "execution_count": null,
      "metadata": {
        "id": "39af9e54"
      },
      "outputs": [],
      "source": [
        "#Результаты модели, выдающей среднее значение\n",
        "mse_lin_elast2_mean = mean_squared_error(y_test_2, y_2_pred_mean)\n",
        "print(\"MAE for mean target: \", mean_absolute_error(y_test_2, y_2_pred_mean))\n",
        "print(\"MSE for mean target: \", mse_lin_elast2_mean)\n",
        "print(\"RMSE for mean target: \", np.sqrt(mse_lin_elast2_mean))"
      ],
      "id": "39af9e54"
    },
    {
      "cell_type": "code",
      "execution_count": null,
      "metadata": {
        "id": "9e46f811"
      },
      "outputs": [],
      "source": [
        "plt.figure(figsize = (10, 7))\n",
        "plt.title(\"Тестовые и прогнозные значения Support Vector Regression\")\n",
        "plt.plot(y_pred_svr2, label = \"Прогноз\", color = \"orange\")\n",
        "plt.plot(y_test_2.values, label = \"Тест\", color = \"green\")\n",
        "plt.xlabel(\"Количество наблюдений\")\n",
        "plt.ylabel(\"Модуль упругости при растяжении, ГПа\")\n",
        "plt.legend()\n",
        "plt.grid(True);"
      ],
      "id": "9e46f811"
    },
    {
      "cell_type": "code",
      "execution_count": null,
      "metadata": {
        "id": "b6c38775"
      },
      "outputs": [],
      "source": [
        "# Чтобы оценить производительность модели в наборе данных, нам нужно измерить, насколько хорошо прогнозы модели соответствуют наблюдаемым данным.\n",
        "# Метод случайного леса - Random Forest Regressor - 2 "
      ],
      "id": "b6c38775"
    },
    {
      "cell_type": "code",
      "execution_count": null,
      "metadata": {
        "id": "df715cc0"
      },
      "outputs": [],
      "source": [
        "#построение модели и вузуализация метода случайный лес\n",
        "rfr2 = RandomForestRegressor(n_estimators = 15,max_depth = 7, random_state = 33)\n",
        "rfr2.fit(x_train_2, y_train_2.values)\n",
        "y2_pred_forest = rfr2.predict(x_test_2)\n",
        "mae_rfr2 = mean_absolute_error(y2_pred_forest, y_test_2)\n",
        "mse_rfr_elast2 = mean_squared_error(y_test_2,y2_pred_forest)\n",
        "print('Random Forest Regressor Results Train:')\n",
        "print(\"Test score: {:.2f}\".format(rfr2.score(x_train_2, y_train_2))) # Скор для тренировочной выборки\n",
        "print('Random Forest Regressor Results:')\n",
        "print('RF_MAE: ', round(mean_absolute_error(y_test_2, y2_pred_forest)))\n",
        "print('RF_MAPE: {:.2f}'.format(mean_absolute_percentage_error(y_test_2, y2_pred_forest)))\n",
        "print('RF_MSE: {:.2f}'.format(mse_rfr_elast2))\n",
        "print(\"RF_RMSE: {:.2f}\".format (np.sqrt(mse_rfr_elast2)))\n",
        "print(\"Test score: {:.2f}\".format(rfr2.score(x_test_2, y_test_2))) # Скор для тестовой выборки"
      ],
      "id": "df715cc0"
    },
    {
      "cell_type": "code",
      "execution_count": null,
      "metadata": {
        "id": "63c8b91a"
      },
      "outputs": [],
      "source": [
        "plt.figure(figsize=(10, 7))\n",
        "plt.title(\"Тестовые и прогнозные значения Random Forest Regressor\")\n",
        "plt.plot(y2_pred_forest, label = \"Прогноз\", color = \"orange\")\n",
        "plt.plot(y_test_2.values, label = \"Тест\", color = 'darkgreen')\n",
        "plt.xlabel(\"Количество наблюдений\")\n",
        "plt.ylabel(\"Модуль упругости при растяжении, ГПа\")\n",
        "plt.legend()\n",
        "plt.grid(True);"
      ],
      "id": "63c8b91a"
    },
    {
      "cell_type": "code",
      "execution_count": null,
      "metadata": {
        "id": "1da470cf"
      },
      "outputs": [],
      "source": [
        "#Метод линейной регрессии - Linear Regression - 3"
      ],
      "id": "1da470cf"
    },
    {
      "cell_type": "code",
      "execution_count": null,
      "metadata": {
        "id": "6b7bccd4"
      },
      "outputs": [],
      "source": [
        "#построение модели и вузуализация Линейной регрессии\n",
        "lr2 = LinearRegression()\n",
        "lr2.fit(x_train_2, y_train_2)\n",
        "y_pred_lr2 = lr2.predict(x_test_2)\n",
        "mae_lr2 = mean_absolute_error(y_pred_lr2, y_test_2)\n",
        "mse_lin_elast2 = mean_squared_error(y_test_2, y_pred_lr2)\n",
        "print('Linear Regression Results Train:') # Скор для тренировочной выборки\n",
        "print(\"Test score: {:.2f}\".format(lr2.score(x_train_2, y_train_2)))\n",
        "print('Linear Regression Results:')    \n",
        "print('lr_MAE: ', round(mean_absolute_error(y_test_2, y_pred_lr2)))\n",
        "print('lr_MAPE: {:.2f}'.format(mean_absolute_percentage_error(y_test_2, y_pred_lr2)))\n",
        "print('lr_MSE: {:.2f}'.format(mse_lin_elast2))\n",
        "print(\"lr_RMSE: {:.2f}\".format (np.sqrt(mse_lin_elast2)))\n",
        "print(\"Test score: {:.2f}\".format(lr2.score(x_test_2, y_test_2))) # Скор для тестовой выборки"
      ],
      "id": "6b7bccd4"
    },
    {
      "cell_type": "code",
      "execution_count": null,
      "metadata": {
        "id": "4b28da5d"
      },
      "outputs": [],
      "source": [
        "plt.figure(figsize = (10, 7))\n",
        "plt.title(\"Тестовые и прогнозные значения Linear Regression\")\n",
        "plt.plot(y_pred_lr2, label = \"Прогноз\", color = 'orange')\n",
        "plt.plot(y_test_2.values, label = \"Тест\", color = 'darkgreen')\n",
        "plt.xlabel(\"Количество наблюдений\")\n",
        "plt.ylabel(\"Модуль упругости при растяжении, ГПа\")\n",
        "plt.legend()\n",
        "plt.grid(True);"
      ],
      "id": "4b28da5d"
    },
    {
      "cell_type": "code",
      "execution_count": null,
      "metadata": {
        "id": "6ab7c9d6"
      },
      "outputs": [],
      "source": [
        "error = y_test_2 - y_pred_lr2\n",
        "plt.hist(error, bins = 25, color = \"g\")\n",
        "plt.xlabel('Prediction Error')\n",
        "_ = plt.ylabel('Count')"
      ],
      "id": "6ab7c9d6"
    },
    {
      "cell_type": "code",
      "execution_count": null,
      "metadata": {
        "id": "71a4a55d"
      },
      "outputs": [],
      "source": [
        "gbr2 = make_pipeline(StandardScaler(), GradientBoostingRegressor())\n",
        "gbr2.fit(x_train_2, np.ravel(y_train_2))\n",
        "y_pred_gbr2 = gbr2.predict(x_test_2)\n",
        "mae_gbr2 = mean_absolute_error(y_pred_gbr2, y_test_2)\n",
        "mse_gbr_elast2 = mean_squared_error(y_test_2,y_pred_gbr2)\n",
        "print('Gradient Boosting Regressor Results Train:')\n",
        "print(\"Test score: {:.2f}\".format(gbr2.score(x_train_2, y_train_2))) # Скор для тренировочной выборки\n",
        "print('Gradient Boosting Regressor Results:')\n",
        "print('GBR_MAE: ', round(mean_absolute_error(y_test_2, y_pred_gbr2)))\n",
        "print('GBR_MAPE: {:.2f}'.format(mean_absolute_percentage_error(y_test_2, y_pred_gbr2)))\n",
        "print('GBR_MSE: {:.2f}'.format(mse_gbr_elast2))\n",
        "print(\"GBR_RMSE: {:.2f}\".format (np.sqrt(mse_gbr_elast2)))\n",
        "print(\"Test score: {:.2f}\".format(gbr2.score(x_test_2, y_test_2)))# Скор для тестовой выборки"
      ],
      "id": "71a4a55d"
    },
    {
      "cell_type": "code",
      "execution_count": null,
      "metadata": {
        "id": "4ad89ce2"
      },
      "outputs": [],
      "source": [
        "plt.figure(figsize = (10, 7))\n",
        "plt.title(\"Тестовые и прогнозные значения Gradient Boosting Regressor\")\n",
        "plt.plot(y_pred_gbr2, label = \"Прогноз\", color = \"orange\")\n",
        "plt.plot(y_test_2.values, label = \"Тест\", color = \"green\")\n",
        "plt.xlabel(\"Количество наблюдений\")\n",
        "plt.ylabel(\"Модуль упругости при растяжении, ГПа\")\n",
        "plt.legend()\n",
        "plt.grid(True);"
      ],
      "id": "4ad89ce2"
    },
    {
      "cell_type": "code",
      "execution_count": null,
      "metadata": {
        "id": "168b644a"
      },
      "outputs": [],
      "source": [
        "# Метод К ближайших соседей - K Neighbors Regressor - 5\n",
        "knn2 = KNeighborsRegressor(n_neighbors=5)\n",
        "knn2.fit(x_train_2, y_train_2)\n",
        "y_pred_knn2 = knn2.predict(x_test_2)\n",
        "mae_knr2 = mean_absolute_error(y_pred_knn2, y_test_2)\n",
        "mse_knn_elast2 = mean_squared_error(y_test_2,y_pred_knn2)\n",
        "print('K Neighbors Regressor  Results Train:')\n",
        "print(\"Test score: {:.2f}\".format(knn2.score(x_train_2, y_train_2)))# Скор для тренировочной выборки\n",
        "print('K Neighbors Regressor  Results:')\n",
        "print('KNN_MAE: ', round(mean_absolute_error(y_test_2, y_pred_knn2)))\n",
        "print('KNN_MAPE: {:.2f}'.format(mean_absolute_percentage_error(y_test_2, y_pred_knn2)))\n",
        "print('KNN_MSE: {:.2f}'.format(mse_knn_elast2))\n",
        "print(\"KNN_RMSE: {:.2f}\".format (np.sqrt(mse_knn_elast2)))\n",
        "print(\"Test score: {:.2f}\".format(knn2.score(x_test_2, y_test_2)))# Скор для тестовой выборки"
      ],
      "id": "168b644a"
    },
    {
      "cell_type": "code",
      "execution_count": null,
      "metadata": {
        "id": "9df722ce"
      },
      "outputs": [],
      "source": [
        "plt.figure(figsize = (10, 7))\n",
        "plt.title(\"Тестовые и прогнозные значения K Neighbors Regressor\")\n",
        "plt.plot(y_pred_knn2, label = \"Прогноз\", color = 'orange')\n",
        "plt.plot(y_test_2.values, label = \"Тест\", color = 'darkgreen')\n",
        "plt.xlabel(\"Количество наблюдений\")\n",
        "plt.ylabel(\"Модуль упругости при растяжении, ГПа\")\n",
        "plt.legend()\n",
        "plt.grid(True);"
      ],
      "id": "9df722ce"
    },
    {
      "cell_type": "code",
      "execution_count": null,
      "metadata": {
        "id": "3742be01"
      },
      "outputs": [],
      "source": [
        "#Визуализация гистограммы распределения ошибки\n",
        "error = y_test_2 - y_pred_knn2\n",
        "plt.hist(error, bins = 25, color = \"g\")\n",
        "plt.xlabel('Prediction Error')\n",
        "_ = plt.ylabel('Count')"
      ],
      "id": "3742be01"
    },
    {
      "cell_type": "code",
      "execution_count": null,
      "metadata": {
        "id": "3a0b2319"
      },
      "outputs": [],
      "source": [
        "#Деревья решений - Decision Tree Regressor - 6\n",
        "\n",
        "dtr2 = DecisionTreeRegressor()\n",
        "dtr2.fit(x_train_2, y_train_2.values)\n",
        "y_pred_dtr2 = dtr2.predict(x_test_2)\n",
        "mae_dtr2 = mean_absolute_error(y_pred_dtr2, y_test_2)\n",
        "mse_dtr_elast2 = mean_squared_error(y_test_2,y_pred_dtr2)\n",
        "print('Decision Tree Regressor Results Train:')\n",
        "print(\"Test score: {:.2f}\".format(dtr2.score(x_train_2, y_train_2)))# Скор для тренировочной выборки\n",
        "print('Decision Tree Regressor Results:')\n",
        "print('DTR_MAE: ', round(mean_absolute_error(y_test_2, y_pred_dtr2)))\n",
        "print('DTR_MSE: {:.2f}'.format(mse_dtr_elast2))\n",
        "print(\"DTR_RMSE: {:.2f}\".format (np.sqrt(mse_dtr_elast2)))\n",
        "print('DTR_MAPE: {:.2f}'.format(mean_absolute_percentage_error(y_test_2, y_pred_dtr2)))\n",
        "print(\"Test score: {:.2f}\".format(dtr2.score(x_test_2, y_test_2)))# Скор для тестовой выборки"
      ],
      "id": "3a0b2319"
    },
    {
      "cell_type": "code",
      "execution_count": null,
      "metadata": {
        "id": "46099fbe"
      },
      "outputs": [],
      "source": [
        "plt.figure(figsize = (10, 7))\n",
        "plt.title(\"Тестовые и прогнозные значения Decision Tree Regressor\")\n",
        "plt.plot(y_pred_dtr2, label = \"Прогноз\", color = 'orange')\n",
        "plt.plot(y_test_2.values, label = \"Тест\", color = 'darkgreen')\n",
        "plt.xlabel(\"Количество наблюдений\")\n",
        "plt.ylabel(\"Модуль упругости при растяжении, ГПа\")\n",
        "plt.legend()\n",
        "plt.grid(True);"
      ],
      "id": "46099fbe"
    },
    {
      "cell_type": "code",
      "execution_count": null,
      "metadata": {
        "id": "5129cbfc"
      },
      "outputs": [],
      "source": [
        "# Стохастический градиентный спуск (SGD) - Stochastic Gradient Descent Regressor - 7 \n",
        "\n",
        "sdg2 = SGDRegressor()\n",
        "sdg2.fit(x_train_2, y_train_2)\n",
        "y_pred_sdg2 = sdg2.predict(x_test_2)\n",
        "mae_sdg2 = mean_absolute_error(y_pred_sdg2, y_test_2)\n",
        "mse_sdg_elast2 = mean_squared_error(y_test_2,y_pred_sdg2)\n",
        "print('Stochastic Gradient Descent Regressor Results Train:')\n",
        "print(\"Test score: {:.2f}\".format(sdg2.score(x_train_2, y_train_2)))# Скор для тренировочной выборки\n",
        "print('Stochastic Gradient Descent Regressor Results:')\n",
        "print('SGD_MAE: ', round(mean_absolute_error(y_test_2, y_pred_sdg2)))\n",
        "print('SGD_MSE: {:.2f}'.format(mse_sdg_elast2))\n",
        "print(\"SGD_RMSE: {:.2f}\".format (np.sqrt(mse_sdg_elast2)))\n",
        "print('SGD_MAPE: {:.2f}'.format(mean_absolute_percentage_error(y_test_2, y_pred_sdg2)))\n",
        "print(\"Test score: {:.2f}\".format(sdg2.score(x_test_2, y_test_2)))# Скор для тестовой выборки"
      ],
      "id": "5129cbfc"
    },
    {
      "cell_type": "code",
      "execution_count": null,
      "metadata": {
        "id": "fb260ee5"
      },
      "outputs": [],
      "source": [
        "plt.figure(figsize = (10, 7))\n",
        "plt.title(\"Тестовые и прогнозные значения Stochastic Gradient Descent Regressor\")\n",
        "plt.plot(y_pred_sdg2, label = \"Прогноз\", color = 'orange')\n",
        "plt.plot(y_test_2.values, label = \"Тест\", color = 'darkgreen')\n",
        "plt.xlabel(\"Количество наблюдений\")\n",
        "plt.ylabel(\"Модуль упругости при растяжении, ГПа\")\n",
        "plt.legend()\n",
        "plt.grid(True);"
      ],
      "id": "fb260ee5"
    },
    {
      "cell_type": "code",
      "execution_count": null,
      "metadata": {
        "id": "549b6dbc"
      },
      "outputs": [],
      "source": [
        "# Многослойный перцептрон - Multi-layer Perceptron regressor - 8\n",
        "\n",
        "mlp2 = MLPRegressor(random_state = 1, max_iter = 500)\n",
        "mlp2.fit(x_train_2, y_train_2)\n",
        "y_pred_mlp2 = mlp2.predict(x_test_2)\n",
        "mae_mlp2 = mean_absolute_error(y_pred_mlp2, y_test_2)\n",
        "mse_mlp_elast2 = mean_squared_error(y_test_2,y_pred_mlp2)\n",
        "print('Multi-layer Perceptron regressor Results Train:')\n",
        "print(\"Test score: {:.2f}\".format(mlp2.score(x_train_2, y_train_2)))# Скор для тренировочной выборки\n",
        "print('Multi-layer Perceptron regressor Results:')\n",
        "print('SGD_MAE: ', round(mean_absolute_error(y_test_2, y_pred_mlp2)))\n",
        "print('SGD_MAPE: {:.2f}'.format(mean_absolute_percentage_error(y_test_2, y_pred_mlp2)))\n",
        "print('SGD_MSE: {:.2f}'.format(mse_mlp_elast2))\n",
        "print(\"SGD_RMSE: {:.2f}\".format (np.sqrt(mse_mlp_elast2)))\n",
        "print(\"Test score: {:.2f}\".format(mlp2.score(x_test_2, y_test_2)))# Скор для тестовой выборки"
      ],
      "id": "549b6dbc"
    },
    {
      "cell_type": "code",
      "execution_count": null,
      "metadata": {
        "id": "e3efe05d"
      },
      "outputs": [],
      "source": [
        "plt.figure(figsize = (10, 7))\n",
        "plt.title(\"Тестовые и прогнозные значения Multi-layer Perceptron regressor\")\n",
        "plt.plot(y_pred_mlp2, label = \"Прогноз\", color = 'orange')\n",
        "plt.plot(y_test_2.values, label = \"Тест\", color = 'darkgreen')\n",
        "plt.xlabel(\"Количество наблюдений\")\n",
        "plt.ylabel(\"Модуль упругости при растяжении, ГПа\")\n",
        "plt.legend()\n",
        "plt.grid(True);"
      ],
      "id": "e3efe05d"
    },
    {
      "cell_type": "code",
      "execution_count": null,
      "metadata": {
        "id": "c7a12cfe"
      },
      "outputs": [],
      "source": [
        "# Лассо регрессия - the Lasso - 9\n",
        "\n",
        "clf2 = linear_model.Lasso(alpha = 0.1)\n",
        "clf2.fit(x_train_2, y_train_2)\n",
        "y_pred_clf2 = clf2.predict(x_test_2)\n",
        "mae_clf2 = mean_absolute_error(y_pred_clf2, y_test_2)\n",
        "mse_clf_elast2 = mean_squared_error(y_test_2,y_pred_clf2)\n",
        "print('Lasso regressor Results Train:')\n",
        "print(\"Test score: {:.2f}\".format(clf2.score(x_train_2, y_train_2)))# Скор для тренировочной выборки\n",
        "print('Lasso regressor Results:')\n",
        "print('SGD_MAE: ', round(mean_absolute_error(y_test_2, y_pred_clf2)))\n",
        "print('SGD_MAPE: {:.2f}'.format(mean_absolute_percentage_error(y_test_2, y_pred_clf2)))\n",
        "print('SGD_MSE: {:.2f}'.format(mse_clf_elast2))\n",
        "print(\"SGD_RMSE: {:.2f}\".format (np.sqrt(mse_clf_elast2)))\n",
        "print(\"Test score: {:.2f}\".format(clf2.score(x_test_2, y_test_2)))# Скор для тестовой выборки"
      ],
      "id": "c7a12cfe"
    },
    {
      "cell_type": "code",
      "execution_count": null,
      "metadata": {
        "id": "d2a8e4ff"
      },
      "outputs": [],
      "source": [
        "plt.figure(figsize = (10, 7))\n",
        "plt.title(\"Тестовые и прогнозные значения Lasso regressor\")\n",
        "plt.plot(y_pred_clf2, label = \"Прогноз\", color = 'orange')\n",
        "plt.plot(y_test_2.values, label = \"Тест\", color = 'darkgreen')\n",
        "plt.xlabel(\"Количество наблюдений\")\n",
        "plt.ylabel(\"Модуль упругости при растяжении, ГПа\")\n",
        "plt.legend()\n",
        "plt.grid(True);"
      ],
      "id": "d2a8e4ff"
    },
    {
      "cell_type": "code",
      "execution_count": null,
      "metadata": {
        "id": "4b21c198"
      },
      "outputs": [],
      "source": [
        "#сравним наши модели по метрике МАЕ\n",
        "mae_df2 = {'Регрессор': ['Support Vector', 'RandomForest', 'Linear Regression', 'GradientBoosting', 'KNeighbors', 'DecisionTree', 'SGD', 'MLP', 'Lasso'], 'MAE': [mae_svr2, mae_rfr2, mae_lr2, mae_gbr2, mae_knr2, mae_dtr2, mae_sdg2, mae_mlp2, mae_clf2]} \n",
        "mae_df2 = pd.DataFrame(mae_df2)"
      ],
      "id": "4b21c198"
    },
    {
      "cell_type": "code",
      "execution_count": null,
      "metadata": {
        "id": "fe38469c"
      },
      "outputs": [],
      "source": [
        "# Проведем поиск  по сетке гиперпараметров с перекрестной проверкой, количество блоков равно 10 (cv = 10), для \n",
        "# модели случайного леса - Random Forest Regressor - 2\n",
        "\n",
        "parametrs = { 'n_estimators': [200, 300],\n",
        "              'max_depth': [9, 15],\n",
        "              'max_features': ['auto'],\n",
        "              'criterion': ['friedman_mse'] }\n",
        "grid21 = GridSearchCV(estimator = rfr2, param_grid  = parametrs, cv=10)\n",
        "grid21.fit(x_train_2, y_train_2)"
      ],
      "id": "fe38469c"
    },
    {
      "cell_type": "code",
      "execution_count": null,
      "metadata": {
        "id": "bf00b33f"
      },
      "outputs": [],
      "source": [
        "grid21.best_params_"
      ],
      "id": "bf00b33f"
    },
    {
      "cell_type": "code",
      "execution_count": null,
      "metadata": {
        "id": "1ebdde62"
      },
      "outputs": [],
      "source": [
        "#Выводим гиперпараметры для оптимальной модели\n",
        "print(grid21.best_estimator_)\n",
        "knr_u = grid21.best_estimator_\n",
        "print(f'R2-score RFR для модуля упругости при растяжении: {knr_u.score(x_test_2, y_test_2).round(3)}')"
      ],
      "id": "1ebdde62"
    },
    {
      "cell_type": "code",
      "execution_count": null,
      "metadata": {
        "id": "7216249d"
      },
      "outputs": [],
      "source": [
        "#подставим оптимальные гиперпараметры в нашу модель случайного леса\n",
        "rfr21_grid = RandomForestRegressor(n_estimators=200, criterion='friedman_mse', max_depth=15, max_features='auto')\n",
        "#Обучаем модель\n",
        "rfr21_grid.fit(x_train_2, y_train_2)\n",
        "\n",
        "predictions_rfr21_grid = rfr21_grid.predict(x_test_2)\n",
        "#Оцениваем точность на тестовом наборе\n",
        "mae_rfr21_grid = mean_absolute_error(predictions_rfr21_grid, y_test_2)\n",
        "mae_rfr21_grid"
      ],
      "id": "7216249d"
    },
    {
      "cell_type": "code",
      "execution_count": null,
      "metadata": {
        "id": "43f4bc8e"
      },
      "outputs": [],
      "source": [
        "new_row_in_mae_df = {'Регрессор': 'RandomForest1_GridSearchCV', 'MAE': mae_rfr21_grid} \n",
        "\n",
        "mae_df = mae_df2.append(new_row_in_mae_df, ignore_index = True)"
      ],
      "id": "43f4bc8e"
    },
    {
      "cell_type": "code",
      "execution_count": null,
      "metadata": {
        "id": "147838c7"
      },
      "outputs": [],
      "source": [
        "mae_df"
      ],
      "id": "147838c7"
    },
    {
      "cell_type": "code",
      "execution_count": null,
      "metadata": {
        "id": "225b7d57"
      },
      "outputs": [],
      "source": [
        "# Проведем поиск  по сетке гиперпараметров с перекрестной проверкой, количество блоков равно 10 (cv = 10), для \n",
        "# Метода К ближайших соседей - K Neighbors Regressor - 5\n",
        "knn21 = KNeighborsRegressor()\n",
        "knn21_params = {'n_neighbors' : range(1, 301, 2), \n",
        "          'weights' : ['uniform', 'distance'],\n",
        "          'algorithm' : ['auto', 'ball_tree', 'kd_tree', 'brute']\n",
        "          }\n",
        "#Запустим обучение модели. В качестве оценки модели будем использовать коэффициент детерминации (R^2)\n",
        "# Если R2<0, это значит, что разработанная модель даёт прогноз даже хуже, чем простое усреднение.\n",
        "gs21 = GridSearchCV(knn21, knn21_params, cv = 10, verbose = 1, n_jobs=-1, scoring = 'r2')\n",
        "gs21.fit(x_train_2, y_train_2)\n",
        "knn_21 = gs21.best_estimator_\n",
        "gs21.best_params_"
      ],
      "id": "225b7d57"
    },
    {
      "cell_type": "code",
      "execution_count": null,
      "metadata": {
        "id": "58988236"
      },
      "outputs": [],
      "source": [
        "#Выводим гиперпараметры для оптимальной модели\n",
        "print(gs21.best_estimator_)\n",
        "gs121 = gs21.best_estimator_\n",
        "print(f'R2-score KNR для модуля упругости при растяжении: {gs121.score(x_test_2, y_test_2).round(3)}')"
      ],
      "id": "58988236"
    },
    {
      "cell_type": "code",
      "execution_count": null,
      "metadata": {
        "id": "6ba1e2c5"
      },
      "outputs": [],
      "source": [
        "#подставим оптимальные гиперпараметры в нашу модель метода к ближайших соседей\n",
        "knn21_grid = KNeighborsRegressor(algorithm = 'brute', n_neighbors = 7, weights = 'distance')\n",
        "#Обучаем модель\n",
        "knn21_grid.fit(x_train_2, y_train_2)\n",
        "\n",
        "predictions_knn21_grid = knn21_grid.predict(x_test_2)\n",
        "#Оцениваем точность на тестовом наборе\n",
        "mae_knn21_grid = mean_absolute_error(predictions_knn21_grid, y_test_2)\n",
        "mae_knn21_grid"
      ],
      "id": "6ba1e2c5"
    },
    {
      "cell_type": "code",
      "execution_count": null,
      "metadata": {
        "id": "f2723db3"
      },
      "outputs": [],
      "source": [
        "new_row_in_mae_df = {'Регрессор': 'KNeighbors1_GridSearchCV', 'MAE': mae_knn21_grid} \n",
        "\n",
        "mae_df = mae_df.append(new_row_in_mae_df, ignore_index=True)\n",
        "mae_df"
      ],
      "id": "f2723db3"
    },
    {
      "cell_type": "code",
      "execution_count": null,
      "metadata": {
        "id": "1ab31d3c"
      },
      "outputs": [],
      "source": [
        "# Проведем поиск  по сетке гиперпараметров с перекрестной проверкой, количество блоков равно 10 (cv = 10), для \n",
        "#Деревья решений - Decision Tree Regressor - 6\n",
        "criterion21 = ['squared_error', 'friedman_mse', 'absolute_error', 'poisson']\n",
        "splitter21 = ['best', 'random']\n",
        "max_depth21 = [3,5,7,9,11]\n",
        "min_samples_leaf21 = [100,150,200]\n",
        "min_samples_split21 = [200,250,300]\n",
        "max_features21 = ['auto', 'sqrt', 'log2']\n",
        "param_grid21 = {'criterion': criterion21,\n",
        "               'splitter': splitter21,\n",
        "               'max_depth': max_depth21,\n",
        "               'min_samples_split': min_samples_split21,\n",
        "               'min_samples_leaf': min_samples_leaf21,\n",
        "               'max_features': max_features21}\n",
        "#Запустим обучение модели. В качестве оценки модели будем использовать коэффициент детерминации (R^2)\n",
        "# Если R2<0, это значит, что разработанная модель даёт прогноз даже хуже, чем простое усреднение.\n",
        "gs21 = GridSearchCV(dtr2, param_grid21, cv = 10, verbose = 1, n_jobs=-1, scoring = 'r2')\n",
        "gs21.fit(x_train_2, y_train_2)\n",
        "dtr_21 = gs21.best_estimator_\n",
        "gs21.best_params_"
      ],
      "id": "1ab31d3c"
    },
    {
      "cell_type": "code",
      "execution_count": null,
      "metadata": {
        "id": "f9c67c86"
      },
      "outputs": [],
      "source": [
        "#Выводим гиперпараметры для оптимальной модели\n",
        "print(gs21.best_estimator_)\n",
        "gs21 = gs21.best_estimator_\n",
        "print(f'R2-score DTR для модуля упругости при растяжении: {gs21.score(x_test_2, y_test_2).round(3)}')"
      ],
      "id": "f9c67c86"
    },
    {
      "cell_type": "code",
      "execution_count": null,
      "metadata": {
        "id": "cf771542"
      },
      "outputs": [],
      "source": [
        "#подставим оптимальные гиперпараметры в нашу модель метода деревья решений\n",
        "dtr21_grid = DecisionTreeRegressor(criterion='poisson', max_depth=7, max_features='auto',\n",
        "                      min_samples_leaf=100, min_samples_split=250)\n",
        "#Обучаем модель\n",
        "dtr21_grid.fit(x_train_2, y_train_2)\n",
        "\n",
        "predictions_dtr21_grid = dtr21_grid.predict(x_test_2)\n",
        "#Оцениваем точность на тестовом наборе\n",
        "mae_dtr21_grid = mean_absolute_error(predictions_dtr21_grid, y_test_2)\n",
        "mae_dtr21_grid"
      ],
      "id": "cf771542"
    },
    {
      "cell_type": "code",
      "execution_count": null,
      "metadata": {
        "id": "d708a2b1"
      },
      "outputs": [],
      "source": [
        "new_row_in_mae_df = {'Регрессор': 'DecisionTree1_GridSearchCV', 'MAE': mae_dtr21_grid} \n",
        "\n",
        "mae_df = mae_df.append(new_row_in_mae_df, ignore_index=True)\n",
        "mae_df"
      ],
      "id": "d708a2b1"
    },
    {
      "cell_type": "code",
      "execution_count": null,
      "metadata": {
        "id": "7dad7f7e"
      },
      "outputs": [],
      "source": [
        "pipe2 = Pipeline([('preprocessing', StandardScaler()), ('regressor', SVR())])\n",
        "param_grid2 = [\n",
        "{'regressor': [SVR()], 'preprocessing': [StandardScaler(), MinMaxScaler(), None],\n",
        "'regressor__gamma': [0.001, 0.01, 0.1, 1, 10, 100],\n",
        "'regressor__C': [0.001, 0.01, 0.1, 1, 10, 100]},\n",
        "{'regressor': [RandomForestRegressor(n_estimators=100)],\n",
        "'preprocessing':  [StandardScaler(), MinMaxScaler(), None]},\n",
        "{'regressor': [LinearRegression()], 'preprocessing':  [StandardScaler(), MinMaxScaler(), None]},\n",
        "{'regressor': [GradientBoostingRegressor()], 'preprocessing':  [StandardScaler(), MinMaxScaler(), None]},\n",
        "{'regressor': [KNeighborsRegressor()], 'preprocessing':  [StandardScaler(), MinMaxScaler(), None]},\n",
        "{'regressor': [DecisionTreeRegressor()], 'preprocessing':  [StandardScaler(), MinMaxScaler(), None]},\n",
        "{'regressor': [SGDRegressor()], 'preprocessing':  [StandardScaler(), MinMaxScaler(), None]},\n",
        "{'regressor': [MLPRegressor(random_state=1, max_iter=500)], 'preprocessing':  [StandardScaler(), MinMaxScaler(), None]},\n",
        "{'regressor': [linear_model.Lasso(alpha=0.1)], 'preprocessing':  [StandardScaler(), MinMaxScaler(), None]},]\n",
        "grid2 = GridSearchCV(pipe2, param_grid2, cv=10)\n",
        "grid2.fit(x_train_2, np.ravel(y_train_2))\n",
        "print(\"Наилучшие параметры:\\n{}\\n\".format(grid2.best_params_))\n",
        "print(\"Наилучшее значение правильности перекрестной проверки: {:.2f}\".format(grid2.best_score_))\n",
        "print(\"Правильность на тестовом наборе: {:.2f}\".format(grid2.score(x_test_2, y_test_2)))"
      ],
      "id": "7dad7f7e"
    },
    {
      "cell_type": "code",
      "execution_count": null,
      "metadata": {
        "id": "ace59ed2"
      },
      "outputs": [],
      "source": [
        "print(\"Наилучшая модель:\\n{}\".format(grid2.best_estimator_))"
      ],
      "id": "ace59ed2"
    },
    {
      "cell_type": "markdown",
      "metadata": {
        "id": "e68bf9a9"
      },
      "source": [
        "После обучения моделей была проведена оценка точности этих моделей на обучающей и тестовых выборках. В качестве параметра оценки модели использовалась средняя абсолютная ошибка (MAE). Обе модели даже на тренировочном датасете не смогли обучиться и приблизиться к исходным данным. Поэтому ошибка на тестовом датасете выше."
      ],
      "id": "e68bf9a9"
    },
    {
      "cell_type": "markdown",
      "metadata": {
        "id": "d3af2c1d"
      },
      "source": [
        "Написать нейронную сеть, которая будет рекомендовать соотношение матрица-наполнитель."
      ],
      "id": "d3af2c1d"
    },
    {
      "cell_type": "code",
      "execution_count": null,
      "metadata": {
        "id": "7a6af258"
      },
      "outputs": [],
      "source": [
        "# Сформируем входы и выход для модели\n",
        "\n",
        "tv = df['Соотношение матрица-наполнитель']\n",
        "tr_v = df.loc[:, df.columns != 'Соотношение матрица-наполнитель']\n",
        "\n",
        "# Разбиваем выборки на обучающую и тестовую\n",
        "x_train, x_test, y_train, y_test = train_test_split(tr_v, tv, test_size = 0.3, random_state = 14)"
      ],
      "id": "7a6af258"
    },
    {
      "cell_type": "code",
      "execution_count": null,
      "metadata": {
        "id": "8194fdb8"
      },
      "outputs": [],
      "source": [
        "# Нормализуем данные\n",
        "\n",
        "x_train_n = tf.keras.layers.Normalization(axis =-1)\n",
        "x_train_n.adapt(np.array(x_train))"
      ],
      "id": "8194fdb8"
    },
    {
      "cell_type": "code",
      "execution_count": null,
      "metadata": {
        "id": "9715d02f"
      },
      "outputs": [],
      "source": [
        "def create_model(lyrs=[32], act='softmax', opt='SGD', dr=0.1):\n",
        "    \n",
        "    seed = 7\n",
        "    np.random.seed(seed)\n",
        "    tf.random.set_seed(seed)\n",
        "    \n",
        "    model = Sequential()\n",
        "    model.add(Dense(lyrs[0], input_dim=x_train.shape[1], activation=act)) \n",
        "    for i in range(1,len(lyrs)):\n",
        "        model.add(Dense(lyrs[i], activation=act))\n",
        "    \n",
        "    model.add(Dropout(dr))\n",
        "    model.add(Dense(3, activation='tanh'))  # выходной слой\n",
        "    \n",
        "    model.compile(loss='binary_crossentropy', optimizer=opt, metrics=['mae', 'accuracy'])\n",
        " \n",
        "    return model"
      ],
      "id": "9715d02f"
    },
    {
      "cell_type": "code",
      "execution_count": null,
      "metadata": {
        "id": "8d300cc3"
      },
      "outputs": [],
      "source": [
        "# строим модель\n",
        "model = KerasClassifier(build_fn=create_model, verbose=0)\n",
        "\n",
        "# определяем параметры\n",
        "batch_size = [4, 10, 20, 50, 100]\n",
        "epochs = [10, 50, 100, 200, 300]\n",
        "param_grid = dict(batch_size=batch_size, epochs=epochs)\n",
        "\n",
        "# поиск оптимальных параметров\n",
        "grid = GridSearchCV(estimator=model, \n",
        "                    param_grid=param_grid,\n",
        "                    cv=10,\n",
        "                    verbose=1, n_jobs=-1)\n",
        "\n",
        "grid_result = grid.fit(x_train, y_train)"
      ],
      "id": "8d300cc3"
    },
    {
      "cell_type": "code",
      "execution_count": null,
      "metadata": {
        "id": "ZOtTnCD39jAc"
      },
      "outputs": [],
      "source": [],
      "id": "ZOtTnCD39jAc"
    },
    {
      "cell_type": "code",
      "execution_count": null,
      "metadata": {
        "id": "a9271750"
      },
      "outputs": [],
      "source": [
        "# результаты\n",
        "print(\"Best: %f using %s\" % (grid_result.best_score_, grid_result.best_params_))\n",
        "means = grid_result.cv_results_['mean_test_score']\n",
        "stds = grid_result.cv_results_['std_test_score']\n",
        "params = grid_result.cv_results_['params']\n",
        "for mean, stdev, param in zip(means, stds, params):\n",
        "    print(\"%f (%f) with: %r\" % (mean, stdev, param))"
      ],
      "id": "a9271750"
    },
    {
      "cell_type": "code",
      "execution_count": null,
      "metadata": {
        "id": "29c0352e"
      },
      "outputs": [],
      "source": [
        "model = KerasClassifier(build_fn=create_model, epochs=50, batch_size=4, verbose=0)\n",
        "\n",
        "optimizer = ['SGD', 'RMSprop', 'Adagrad', 'Adadelta', 'Adam', 'Nadam']\n",
        "param_grid = dict(opt=optimizer)\n",
        "\n",
        "grid = GridSearchCV(estimator=model, param_grid=param_grid, cv=10, verbose=2)\n",
        "grid_result = grid.fit(x_train, y_train)"
      ],
      "id": "29c0352e"
    },
    {
      "cell_type": "code",
      "execution_count": null,
      "metadata": {
        "id": "6a368e64"
      },
      "outputs": [],
      "source": [
        "# результаты\n",
        "print(\"Best: %f using %s\" % (grid_result.best_score_, grid_result.best_params_))\n",
        "means = grid_result.cv_results_['mean_test_score']\n",
        "stds = grid_result.cv_results_['std_test_score']\n",
        "params = grid_result.cv_results_['params']\n",
        "for mean, stdev, param in zip(means, stds, params):\n",
        "    print(\"%f (%f) with: %r\" % (mean, stdev, param))"
      ],
      "id": "6a368e64"
    },
    {
      "cell_type": "code",
      "execution_count": null,
      "metadata": {
        "id": "71be724a"
      },
      "outputs": [],
      "source": [
        "model = KerasClassifier(build_fn=create_model, epochs=50, batch_size=4, verbose=0)\n",
        "\n",
        "layers = [[8],[16, 4],[32, 8, 3],[12, 6, 3], [64, 64, 3], [128, 64, 16, 3]]\n",
        "param_grid = dict(lyrs=layers)\n",
        "\n",
        "grid = GridSearchCV(estimator=model, param_grid=param_grid, cv=10, verbose=2)\n",
        "grid_result = grid.fit(x_train, y_train)"
      ],
      "id": "71be724a"
    },
    {
      "cell_type": "code",
      "execution_count": null,
      "metadata": {
        "id": "7e222ac8"
      },
      "outputs": [],
      "source": [
        "# результаты\n",
        "print(\"Best: %f using %s\" % (grid_result.best_score_, grid_result.best_params_))\n",
        "means = grid_result.cv_results_['mean_test_score']\n",
        "stds = grid_result.cv_results_['std_test_score']\n",
        "params = grid_result.cv_results_['params']\n",
        "for mean, stdev, param in zip(means, stds, params):\n",
        "    print(\"%f (%f) with: %r\" % (mean, stdev, param))"
      ],
      "id": "7e222ac8"
    },
    {
      "cell_type": "code",
      "execution_count": null,
      "metadata": {
        "id": "340854dc"
      },
      "outputs": [],
      "source": [
        "model = KerasClassifier(build_fn=create_model, epochs=50, batch_size=4, verbose=0)\n",
        "\n",
        "activation = ['softmax', 'softplus', 'softsign', 'relu', 'tanh', 'sigmoid', 'hard_sigmoid', 'linear']\n",
        "param_grid = dict(act=activation)\n",
        "\n",
        "grid = GridSearchCV(estimator=model, param_grid=param_grid, n_jobs=-1, cv=10)\n",
        "grid_result = grid.fit(x_train, y_train)"
      ],
      "id": "340854dc"
    },
    {
      "cell_type": "code",
      "execution_count": null,
      "metadata": {
        "id": "05acbe97"
      },
      "outputs": [],
      "source": [
        "# результаты\n",
        "print(\"Best: %f using %s\" % (grid_result.best_score_, grid_result.best_params_))\n",
        "means = grid_result.cv_results_['mean_test_score']\n",
        "stds = grid_result.cv_results_['std_test_score']\n",
        "params = grid_result.cv_results_['params']\n",
        "for mean, stdev, param in zip(means, stds, params):\n",
        "    print(\"%f (%f) with: %r\" % (mean, stdev, param))"
      ],
      "id": "05acbe97"
    },
    {
      "cell_type": "code",
      "execution_count": null,
      "metadata": {
        "id": "eaa29c99"
      },
      "outputs": [],
      "source": [
        "model = KerasClassifier(build_fn=create_model, epochs=50, batch_size=4, verbose=0)\n",
        "\n",
        "drops = [0.0, 0.01, 0.05, 0.1, 0.2, 0.3, 0.5]\n",
        "param_grid = dict(dr=drops)\n",
        "\n",
        "grid = GridSearchCV(estimator=model, param_grid=param_grid, cv=10, verbose=2)\n",
        "grid_result = grid.fit(x_train, y_train)"
      ],
      "id": "eaa29c99"
    },
    {
      "cell_type": "code",
      "execution_count": null,
      "metadata": {
        "id": "21885ed3"
      },
      "outputs": [],
      "source": [
        "# результаты\n",
        "print(\"Best: %f using %s\" % (grid_result.best_score_, grid_result.best_params_))\n",
        "means = grid_result.cv_results_['mean_test_score']\n",
        "stds = grid_result.cv_results_['std_test_score']\n",
        "params = grid_result.cv_results_['params']\n",
        "for mean, stdev, param in zip(means, stds, params):\n",
        "    print(\"%f (%f) with: %r\" % (mean, stdev, param))"
      ],
      "id": "21885ed3"
    },
    {
      "cell_type": "code",
      "execution_count": null,
      "metadata": {
        "id": "3acb5618"
      },
      "outputs": [],
      "source": [
        "# построение окончательной модели\n",
        "model = create_model(lyrs=[128, 64, 16, 3], dr=0.05)\n",
        "\n",
        "print(model.summary())"
      ],
      "id": "3acb5618"
    },
    {
      "cell_type": "code",
      "execution_count": null,
      "metadata": {
        "id": "094d292e"
      },
      "outputs": [],
      "source": [
        "# обучаем нейросеть, 80/20 CV\n",
        "model_hist = model.fit(x_train, \n",
        "    y_train, \n",
        "    epochs = 100, \n",
        "    verbose = 1, \n",
        "    validation_split = 0.2)"
      ],
      "id": "094d292e"
    },
    {
      "cell_type": "code",
      "execution_count": null,
      "metadata": {
        "id": "7b915409"
      },
      "outputs": [],
      "source": [
        "# оценим модель\n",
        "scores = model.evaluate(x_test, y_test)\n",
        "print(\"\\n%s: %.2f%%\" % (model.metrics_names[1], scores[1]*100))"
      ],
      "id": "7b915409"
    },
    {
      "cell_type": "code",
      "execution_count": null,
      "metadata": {
        "id": "1d8d7b2c"
      },
      "outputs": [],
      "source": [
        "# Посмотрим на потери модели\n",
        "\n",
        "model_hist.history"
      ],
      "id": "1d8d7b2c"
    },
    {
      "cell_type": "code",
      "execution_count": null,
      "metadata": {
        "id": "f9d41394"
      },
      "outputs": [],
      "source": [
        "# Посмотрим на график потерь на тренировочной и тестовой выборках\n",
        "def model_loss_plot(model_hist):\n",
        "    plt.figure(figsize = (17,5))\n",
        "    plt.plot(model_hist.history['loss'],\n",
        "             label = 'ошибка на обучающей выборке')\n",
        "    plt.plot(model_hist.history['val_loss'],\n",
        "            label = 'ошибка на тестовой выборке')\n",
        "    plt.title('График потерь модели')\n",
        "    plt.ylabel('Значение ошибки')\n",
        "    plt.xlabel('Эпохи')\n",
        "    plt.legend(['Oшибка на обучающей выборке', 'Ошибка на тестовой выборке'], loc='best')\n",
        "    plt.show()\n",
        "model_loss_plot(model_hist)"
      ],
      "id": "f9d41394"
    },
    {
      "cell_type": "code",
      "execution_count": null,
      "metadata": {
        "id": "07326f49"
      },
      "outputs": [],
      "source": [
        "# Зададим функцию для визуализации факт/прогноз для результатов моделей\n",
        "# Посмотрим на график результата работы модели\n",
        "def actual_and_predicted_plot(orig, predict, var, model_name):    \n",
        "    plt.figure(figsize=(17,5))\n",
        "    plt.title(f'Тестовые и прогнозные значения: {model_name}')\n",
        "    plt.plot(orig, label = 'Тест')\n",
        "    plt.plot(predict, label = 'Прогноз')\n",
        "    plt.legend(loc = 'best')\n",
        "    plt.ylabel(var)\n",
        "    plt.xlabel('Количество наблюдений')\n",
        "    plt.show()\n",
        "actual_and_predicted_plot(y_test.values, model.predict(x_test.values), 'Cоотношение матрица/наполнитель', 'Keras_neuronet')"
      ],
      "id": "07326f49"
    },
    {
      "cell_type": "code",
      "source": [
        "# Сконфигурируем другую модель, зададим слои\n",
        "from keras.layers import Dense\n",
        "model1 = tf.keras.Sequential([x_train_n, layers.Dense(128, activation='relu'), \n",
        "                              layers.Dense(128, activation='relu'),\n",
        "                              layers.Dense(128, activation='relu'), \n",
        "                              layers.Dense(64, activation='relu'),\n",
        "                              layers.Dense(64, activation='relu'),\n",
        "                              layers.Dense(32, activation='relu'), \n",
        "                              layers.Dense(16, activation='relu'), \n",
        "                              layers.Dense(1)\n",
        "                            ])\n",
        "\n",
        "model1.compile(optimizer = tf.keras.optimizers.Adam(0.001), loss = 'mean_squared_error', metrics = [tf.keras.metrics.RootMeanSquaredError()])  \n",
        "# Посмотрим на архитектуру модели\n",
        "\n",
        "model1.summary()"
      ],
      "metadata": {
        "id": "H7rNeIXspZ8I"
      },
      "id": "H7rNeIXspZ8I",
      "execution_count": null,
      "outputs": []
    },
    {
      "cell_type": "code",
      "execution_count": null,
      "metadata": {
        "id": "3b82507b"
      },
      "outputs": [],
      "source": [
        "# Обучим модель\n",
        "\n",
        "model_hist1 = model1.fit(\n",
        "    x_train, \n",
        "    y_train, \n",
        "    epochs = 100, \n",
        "    verbose = 1, \n",
        "    validation_split = 0.2)"
      ],
      "id": "3b82507b"
    },
    {
      "cell_type": "code",
      "execution_count": null,
      "metadata": {
        "id": "c02ce571"
      },
      "outputs": [],
      "source": [
        "model1.evaluate(x_test, y_test)"
      ],
      "id": "c02ce571"
    },
    {
      "cell_type": "code",
      "execution_count": null,
      "metadata": {
        "id": "9ab92aa8"
      },
      "outputs": [],
      "source": [
        "y_pred_model = model1.predict(x_test)\n",
        "\n",
        "print('Model Results:')\n",
        "print('Model_MAE: ', round(mean_absolute_error(y_test, y_pred_model)))\n",
        "print('Model_MAPE: {:.2f}'.format(mean_absolute_percentage_error(y_test, y_pred_model)))\n",
        "print(\"Test score: {:.2f}\".format(mean_squared_error(y_test, y_pred_model)))"
      ],
      "id": "9ab92aa8"
    },
    {
      "cell_type": "code",
      "execution_count": null,
      "metadata": {
        "id": "fcfdd9c2"
      },
      "outputs": [],
      "source": [
        "# Посмотрим на потери модели\n",
        "\n",
        "model_hist1.history"
      ],
      "id": "fcfdd9c2"
    },
    {
      "cell_type": "code",
      "execution_count": null,
      "metadata": {
        "id": "6152c27f"
      },
      "outputs": [],
      "source": [
        "# Посмотрим на график потерь на тренировочной и тестовой выборках\n",
        "def model_loss_plot(model_hist1):\n",
        "    plt.figure(figsize = (17,5))\n",
        "    plt.plot(model_hist1.history['loss'],\n",
        "             label = 'ошибка на обучающей выборке')\n",
        "    plt.plot(model_hist1.history['val_loss'],\n",
        "            label = 'ошибка на тестовой выборке')\n",
        "    plt.title('График потерь модели')\n",
        "    plt.ylabel('Значение ошибки')\n",
        "    plt.xlabel('Эпохи')\n",
        "    plt.legend(['Oшибка на обучающей выборке', 'Ошибка на тестовой выборке'], loc='best')\n",
        "    plt.show()\n",
        "model_loss_plot(model_hist1)"
      ],
      "id": "6152c27f"
    },
    {
      "cell_type": "code",
      "execution_count": null,
      "metadata": {
        "id": "cce69701"
      },
      "outputs": [],
      "source": [
        "# Зададим функцию для визуализации факт/прогноз для результатов моделей\n",
        "# Посмотрим на график результата работы модели\n",
        "def actual_and_predicted_plot(orig, predict, var, model_name):    \n",
        "    plt.figure(figsize=(17,5))\n",
        "    plt.title(f'Тестовые и прогнозные значения: {model_name}')\n",
        "    plt.plot(orig, label = 'Тест')\n",
        "    plt.plot(predict, label = 'Прогноз')\n",
        "    plt.legend(loc = 'best')\n",
        "    plt.ylabel(var)\n",
        "    plt.xlabel('Количество наблюдений')\n",
        "    plt.show()\n",
        "actual_and_predicted_plot(y_test.values, model1.predict(x_test.values), 'Cоотношение матрица/наполнитель', 'Keras_neuronet')"
      ],
      "id": "cce69701"
    },
    {
      "cell_type": "code",
      "execution_count": null,
      "metadata": {
        "id": "8954b506"
      },
      "outputs": [],
      "source": [
        "# оценка модели MSE\n",
        "model1.evaluate(x_test, y_test, verbose = 1)"
      ],
      "id": "8954b506"
    },
    {
      "cell_type": "code",
      "execution_count": null,
      "metadata": {
        "id": "7d1bd32c"
      },
      "outputs": [],
      "source": [
        "test_predictions = model1.predict(x_test).flatten()\n",
        "\n",
        "a = plt.axes(aspect = 'equal')\n",
        "plt.scatter(y_test, test_predictions)\n",
        "plt.xlabel('True Values')\n",
        "plt.ylabel('Predictions')\n",
        "lims = [0, 5]\n",
        "plt.xlim(lims)\n",
        "plt.ylim(lims)\n",
        "_ = plt.plot(lims, lims)"
      ],
      "id": "7d1bd32c"
    },
    {
      "cell_type": "markdown",
      "metadata": {
        "id": "fcd2848c"
      },
      "source": [
        "# Заключение.\n",
        "Подводя итоги, стоит сказать, что машинное обучение в задачах моделей прогнозирования  – довольно сложный процесс, требующий не только навыков программирования, но и профессионального подхода к сфере самих композитных материалов. \n",
        "Необходимо понимать, на какие атрибуты нужно в первую очередь обратить внимание, чтобы суметь впоследствии грамотно и чётко спрогнозировать тот или иной признак. И, естественно, обладать всеми необходимыми знаниями, умениями и навыками для прогнозов и расчетов. \n",
        "В ходе работы был задействован дата-сет с реальными данными, произведена его подробная опись и сопутствующий анализ; построено множество разнообразных графиков; осуществлено разбиение данных на обучающую и тестовую выборки с использованием множества вспомогательных модулей из библиотеки SkLearn, которая во многом облегчила процесс машинного обучения и в целом была очень полезным инструментом в ходе работы над выпускной квалификационной работой. \n",
        "В рамках машинного обучения и поиска гиперпараметров были задействованы несколько алгоритмов: линейная регрессия, градиентный бустинг, К ближайших соседей,  деревья решений, стохастический градиентный спуск, многослойный перцептрон, лассо регрессия, а также опорные вектора и случайный лес. \n",
        "Поиск гиперпараметров осуществлялся при помощи таких методов, как «GridSearch». Для каждой из выборок были составлены классификационные отчёты, содержащие в себе основополагающие метрики, оценивающие качество проводимого обучения. \n",
        "В конечном итоге было представлено сравнение результатов оценок работы алгоритмов, а также различные графики и диаграммы, позволяющие наглядно оценить итоги проведенного обучения. \n",
        "Обучена нейронная сеть и разработано пользовательское приложение, предсказывающе вероятный прогноз по заданным параметрам. \n",
        "Что касается перспектив решения данной проблемы композитных материалов, то я думаю, что в таких случаях необходимо уделить больше внимания изучению самой проблемы композитных материалов, углубить знания по статистике и регрессиям, поискать иные варианты решений с данным датасетом, создать плодтворную команду программистов и сотрудников, работающих с природными материалами, способную к совместной работе над усовершенствованием уже существующих разработок и поддержанием их качественного и бесперебойного функционирования."
      ],
      "id": "fcd2848c"
    },
    {
      "cell_type": "code",
      "execution_count": null,
      "metadata": {
        "id": "4033ef18"
      },
      "outputs": [],
      "source": [],
      "id": "4033ef18"
    }
  ],
  "metadata": {
    "colab": {
      "private_outputs": true,
      "provenance": []
    },
    "gpuClass": "standard",
    "kernelspec": {
      "display_name": "Python 3 (ipykernel)",
      "language": "python",
      "name": "python3"
    },
    "language_info": {
      "codemirror_mode": {
        "name": "ipython",
        "version": 3
      },
      "file_extension": ".py",
      "mimetype": "text/x-python",
      "name": "python",
      "nbconvert_exporter": "python",
      "pygments_lexer": "ipython3",
      "version": "3.9.12"
    }
  },
  "nbformat": 4,
  "nbformat_minor": 5
}